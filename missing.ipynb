{
 "cells": [
  {
   "cell_type": "code",
   "execution_count": 640,
   "metadata": {},
   "outputs": [],
   "source": [
    "import pandas as pd \n",
    "import numpy as np "
   ]
  },
  {
   "cell_type": "code",
   "execution_count": 641,
   "metadata": {},
   "outputs": [],
   "source": [
    "# getting NamUs Missing Persons database in 3 parts \n",
    "db1_missing = pd.read_csv(\"data/missing-namus-first-pull.csv\")\n",
    "db2_missing = pd.read_csv(\"data/missing-namus-second-pull.csv\") \n",
    "db3_missing = pd.read_csv(\"data/missing-namus-third-pull.csv\") \n",
    "\n",
    "# combining all 3 into one dataframe \n",
    "missing_df = pd.concat([db1_missing, db2_missing, db3_missing], ignore_index=True, sort=False)"
   ]
  },
  {
   "cell_type": "code",
   "execution_count": 642,
   "metadata": {},
   "outputs": [
    {
     "data": {
      "text/plain": [
       "Index(['Case Number', 'DLC', 'Legal Last Name', 'Legal First Name',\n",
       "       'Missing Age', 'City', 'County', 'State', 'Biological Sex',\n",
       "       'Race / Ethnicity', 'Date Modified'],\n",
       "      dtype='object')"
      ]
     },
     "execution_count": 642,
     "metadata": {},
     "output_type": "execute_result"
    }
   ],
   "source": [
    "missing_df.columns"
   ]
  },
  {
   "cell_type": "code",
   "execution_count": 643,
   "metadata": {},
   "outputs": [],
   "source": [
    "# in case we need to drop an idx\n",
    "drop_row_idx = []\n",
    "\n",
    "# purpose: make every age value into a numerical value \n",
    "def ageToNumerical(df): \n",
    "    for idx, i in enumerate(df[\"Missing Age\"]): \n",
    "        # for null/empty/nan values\n",
    "        if pd.isna(i) or i == \"\" or isinstance(i, (int, float)) or pd.isnull(i): \n",
    "            drop_row_idx.append(idx) \n",
    "\n",
    "    # handling special cases \n",
    "        # 1 - 10 age \n",
    "        elif str(i).strip() == '< 1 Year' or str(i).strip() == '1 - 2 Years': \n",
    "            df.loc[idx, \"Missing Age\"] = 1\n",
    "\n",
    "        elif str(i).strip() == '3 - 4 Years': \n",
    "            df.loc[idx, \"Missing Age\"] = 3\n",
    "\n",
    "        # 10 - 20 age \n",
    "        elif str(i).strip() == '14 - 15 Years': \n",
    "            df.loc[idx, \"Missing Age\"] = 14\n",
    "\n",
    "        elif str(i).strip() == '15 - 17 Years': \n",
    "            df.loc[idx, \"Missing Age\"] = 16\n",
    "\n",
    "        elif str(i).strip() == '16 - 18 Years' or str(i).strip() == '16 - 17 Years': \n",
    "            df.loc[idx, \"Missing Age\"] = 17\n",
    "\n",
    "        elif str(i).strip() == '18 - 20 Years': \n",
    "            df.loc[idx, \"Missing Age\"] = 19\n",
    "\n",
    "\n",
    "        # 20 - 30 age\n",
    "        elif str(i).strip() == '21 - 22 Years': \n",
    "            df.loc[idx, \"Missing Age\"] = 21\n",
    "\n",
    "        elif str(i).strip() == '23 - 24 Years' or str(i).strip() == '23 - 25 Years': \n",
    "            df.loc[idx, \"Missing Age\"] = 23\n",
    "\n",
    "        elif str(i).strip() == '29 - 31 Years' or str(i).strip() == '25 - 35 Years' or str(i).strip() == '25 - 39 Years': \n",
    "            df.loc[idx, \"Missing Age\"] = 30\n",
    "\n",
    "        # 30 - 40 age \n",
    "        elif str(i).strip() == '30 - 40 Years' or str(i).strip() == '35 - 37 Years' or str(i).strip() == '36 - 37 Years' or str(i).strip() == '33 - 34 Years' or str(i).strip() == '34 - 35 Years': \n",
    "            df.loc[idx, \"Missing Age\"] = 35\n",
    "\n",
    "        elif str(i).strip() == '37 - 38 Years' or str(i).strip() == '30 - 31 Years': \n",
    "            df.loc[idx, \"Missing Age\"] = 37\n",
    "\n",
    "        elif str(i).strip() == '39 - 41 Years' or str(i).strip() == '40 - 41 Years': \n",
    "            df.loc[idx, \"Missing Age\"] = 40\n",
    "\n",
    "        # 40 - 50 age \n",
    "        elif str(i).strip() == '42 - 44 Years' or str(i).strip() == '40 - 47 Years' or str(i).strip() == '40 - 42 Years' or str(i).strip() == '44 - 45 Years' or str(i).strip() == '43 - 44 Years': \n",
    "            df.loc[idx, \"Missing Age\"] = 43\n",
    "\n",
    "        elif str(i).strip() == '49 - 50 Years': \n",
    "            df.loc[idx, \"Missing Age\"] = 50\n",
    "\n",
    "        # 50 - 60 age \n",
    "        elif str(i).strip() == '50 - 60 Years' or str(i).strip() == '51 - 52 Years': \n",
    "            df.loc[idx, \"Missing Age\"] = 55\n",
    "\n",
    "        elif str(i).strip() == '55 - 65 Years' or str(i).strip() == '59 - 60 Years': \n",
    "            df.loc[idx, \"Missing Age\"] = 60\n",
    "\n",
    "        elif str(i).strip() == '56 - 60 Years': \n",
    "            df.loc[idx, \"Missing Age\"] = 58\n",
    "\n",
    "        # senior \n",
    "        elif str(i).strip() == '65 - 71 Years' or str(i).strip() == '80 - 82 Years': \n",
    "            df.loc[idx, \"Missing Age\"] = 70\n",
    "\n",
    "    # most common cases\n",
    "        # ex. \"20 Years\" \n",
    "        else: \n",
    "            df.loc[idx, \"Missing Age\"] = i[0:-5]\n",
    "\n",
    "    # string to float \n",
    "    df[\"Missing Age\"] = df[\"Missing Age\"].astype(float)\n",
    "\n",
    "    return df \n",
    "    \n",
    "\n",
    "missing_df_1 = ageToNumerical(missing_df) "
   ]
  },
  {
   "cell_type": "code",
   "execution_count": 644,
   "metadata": {},
   "outputs": [
    {
     "name": "stdout",
     "output_type": "stream",
     "text": [
      "[3191, 3470, 5003, 5504, 9450]\n"
     ]
    }
   ],
   "source": [
    "# drop nan/null columns \n",
    "print(drop_row_idx)\n",
    "missing_df_1 = missing_df_1.drop(index=drop_row_idx)"
   ]
  },
  {
   "cell_type": "code",
   "execution_count": 645,
   "metadata": {},
   "outputs": [
    {
     "data": {
      "text/plain": [
       "count    25055.000000\n",
       "mean        34.406546\n",
       "std         17.279730\n",
       "min          1.000000\n",
       "25%         21.000000\n",
       "50%         32.000000\n",
       "75%         45.000000\n",
       "max        116.000000\n",
       "Name: Missing Age, dtype: float64"
      ]
     },
     "execution_count": 645,
     "metadata": {},
     "output_type": "execute_result"
    }
   ],
   "source": [
    "missing_df_1[\"Missing Age\"].describe()"
   ]
  },
  {
   "cell_type": "code",
   "execution_count": 646,
   "metadata": {},
   "outputs": [
    {
     "data": {
      "text/plain": [
       "array([ 16.,  18.,  35.,  78.,  15.,  27.,  79.,  17.,  14.,  32.,  54.,\n",
       "        80.,  64.,  13.,  73.,  39.,  66.,  23.,  29.,  68.,  83.,  25.,\n",
       "        24.,  38.,  31.,  37.,  20.,  49.,  12.,  69.,  61.,  26.,  63.,\n",
       "        53.,  67.,  72.,  46.,   7.,  44.,  11.,  36.,  52.,  60.,  86.,\n",
       "        40.,  51.,  21.,  56.,  43.,  41.,  34.,  50.,  62.,  45.,  57.,\n",
       "        42.,  19.,  74.,  33.,   1.,  59.,  70.,   8.,  71.,  48.,  77.,\n",
       "        28.,  22.,   5.,   6.,  47.,  30.,  58.,  65.,  55.,   4.,  10.,\n",
       "         2.,  92.,  75.,  84.,  76.,   9.,   3.,  81.,  82.,  85.,  87.,\n",
       "        90.,  89.,  93.,  88.,  91.,  94.,  98.,  95.,  99., 114.,  96.,\n",
       "       116.])"
      ]
     },
     "execution_count": 646,
     "metadata": {},
     "output_type": "execute_result"
    }
   ],
   "source": [
    "missing_df_1[\"Missing Age\"].unique()"
   ]
  },
  {
   "cell_type": "code",
   "execution_count": 647,
   "metadata": {},
   "outputs": [],
   "source": [
    "# in case we need to drop an idx\n",
    "drop_row_idx = []\n",
    "\n",
    "# purpose: turning int values into age categories \n",
    "def ageNumericalToCategory(df): \n",
    "    # new column for age categories \n",
    "    df[\"Age Category\"] = \"\"\n",
    "\n",
    "    for idx, i in enumerate(df[\"Missing Age\"]): \n",
    "        # ages 0 - 2\n",
    "        if i < 3: \n",
    "            df.loc[idx, \"Age Category\"] = \"Infant/Toddler (0-2)\"\n",
    "        # ages 3 - 12\n",
    "        elif i < 13: \n",
    "            df.loc[idx, \"Age Category\"] = \"Children (3-12)\"\n",
    "        # ages 13 - 17\n",
    "        elif i < 18: \n",
    "            df.loc[idx, \"Age Category\"] = \"Teen/Adolescent (13-17)\"\n",
    "        # ages 18 - 24\n",
    "        elif i < 25: \n",
    "            df.loc[idx, \"Age Category\"] = \"Young Adult (18-24)\" \n",
    "        # ages 25 - 44\n",
    "        elif i < 45: \n",
    "            df.loc[idx, \"Age Category\"] = \"Adult (25-44)\"\n",
    "        # ages 45 - 64\n",
    "        elif i < 65: \n",
    "            df.loc[idx, \"Age Category\"] = \"Middle Age (45-64)\" \n",
    "        # ages 65 and up \n",
    "        elif i >= 65: \n",
    "            df.loc[idx, \"Age Category\"] = \"Senior (65+)\" \n",
    "        else: \n",
    "            df.loc[idx, \"Age Category\"] = \"Adult (25-44)\"\n",
    "\n",
    "    # drop old age column \n",
    "    df = df.drop([\"Missing Age\"], axis=1)\n",
    "    # drop nan/null columns \n",
    "    df.drop(drop_row_idx, inplace=True)\n",
    "\n",
    "    return df \n",
    "\n",
    "missing_df_2 = ageNumericalToCategory(missing_df_1)     "
   ]
  },
  {
   "cell_type": "code",
   "execution_count": 648,
   "metadata": {},
   "outputs": [
    {
     "data": {
      "text/plain": [
       "array(['Teen/Adolescent (13-17)', 'Young Adult (18-24)', 'Adult (25-44)',\n",
       "       'Senior (65+)', 'Middle Age (45-64)', 'Children (3-12)',\n",
       "       'Infant/Toddler (0-2)', ''], dtype=object)"
      ]
     },
     "execution_count": 648,
     "metadata": {},
     "output_type": "execute_result"
    }
   ],
   "source": [
    "# Age category unique values \n",
    "missing_df_2[\"Age Category\"].unique()"
   ]
  },
  {
   "cell_type": "code",
   "execution_count": 649,
   "metadata": {},
   "outputs": [
    {
     "data": {
      "text/plain": [
       "25060"
      ]
     },
     "execution_count": 649,
     "metadata": {},
     "output_type": "execute_result"
    }
   ],
   "source": [
    "# length of missing person database \n",
    "len(missing_df_2)"
   ]
  },
  {
   "cell_type": "code",
   "execution_count": 650,
   "metadata": {},
   "outputs": [
    {
     "data": {
      "text/plain": [
       "Race / Ethnicity\n",
       "White / Caucasian                                     14071\n",
       "Black / African American                               4084\n",
       "Hispanic / Latino                                      3465\n",
       "White / Caucasian, Hispanic / Latino                   1141\n",
       "American Indian / Alaska Native                         797\n",
       "Asian                                                   577\n",
       "Other                                                   173\n",
       "Hispanic / Latino, White / Caucasian                    125\n",
       "Uncertain                                                92\n",
       "White / Caucasian, American Indian / Alaska Native       40\n",
       "Name: count, dtype: int64"
      ]
     },
     "execution_count": 650,
     "metadata": {},
     "output_type": "execute_result"
    }
   ],
   "source": [
    "missing_df_2[\"Race / Ethnicity\"].value_counts().head(10)"
   ]
  },
  {
   "cell_type": "code",
   "execution_count": 651,
   "metadata": {},
   "outputs": [],
   "source": [
    "# purpose: reduce Race/Ethnicity categories \n",
    "def reduceRaceCategories(df): \n",
    "    # new column for new race categories\n",
    "    df[\"Race Category\"] = \"\"\n",
    "\n",
    "    for idx, i in enumerate(df[\"Race / Ethnicity\"]): \n",
    "        # to new column for race category \n",
    "        if i == \"Hispanic / Latino\": \n",
    "            df.loc[idx, \"Race Category\"] = \"Hispanic / Latino\" \n",
    "\n",
    "        elif i == \"White / Caucasian\": \n",
    "            df.loc[idx, \"Race Category\"] = \"White / Caucasian\" \n",
    "            \n",
    "        elif i == \"Black / African American\": \n",
    "            df.loc[idx, \"Race Category\"] = \"Black / African American\" \n",
    "            \n",
    "        elif i == \"American Indian / Alaska Native\": \n",
    "            df.loc[idx, \"Race Category\"] = \"American Indian / Alaska Native\" \n",
    "            \n",
    "        elif i == \"Asian\": \n",
    "            df.loc[idx, \"Race Category\"] = \"Asian\"\n",
    "        # for mixed races \n",
    "        else: \n",
    "            df.loc[idx, \"Race Category\"] = \"Mix / Other / Unknown\"\n",
    "\n",
    "    df = df.drop([\"Race / Ethnicity\"], axis=1)\n",
    "\n",
    "    return df \n",
    "\n",
    "missing_df_3 = reduceRaceCategories(missing_df_2)  "
   ]
  },
  {
   "cell_type": "code",
   "execution_count": 652,
   "metadata": {},
   "outputs": [
    {
     "data": {
      "text/plain": [
       "array(['White / Caucasian', 'Mix / Other / Unknown',\n",
       "       'Black / African American', 'Hispanic / Latino',\n",
       "       'American Indian / Alaska Native', 'Asian'], dtype=object)"
      ]
     },
     "execution_count": 652,
     "metadata": {},
     "output_type": "execute_result"
    }
   ],
   "source": [
    "missing_df_3[\"Race Category\"].unique()"
   ]
  },
  {
   "cell_type": "code",
   "execution_count": 653,
   "metadata": {},
   "outputs": [
    {
     "data": {
      "text/html": [
       "<div>\n",
       "<style scoped>\n",
       "    .dataframe tbody tr th:only-of-type {\n",
       "        vertical-align: middle;\n",
       "    }\n",
       "\n",
       "    .dataframe tbody tr th {\n",
       "        vertical-align: top;\n",
       "    }\n",
       "\n",
       "    .dataframe thead th {\n",
       "        text-align: right;\n",
       "    }\n",
       "</style>\n",
       "<table border=\"1\" class=\"dataframe\">\n",
       "  <thead>\n",
       "    <tr style=\"text-align: right;\">\n",
       "      <th></th>\n",
       "      <th>Case Number</th>\n",
       "      <th>DLC</th>\n",
       "      <th>Legal Last Name</th>\n",
       "      <th>Legal First Name</th>\n",
       "      <th>City</th>\n",
       "      <th>County</th>\n",
       "      <th>State</th>\n",
       "      <th>Biological Sex</th>\n",
       "      <th>Date Modified</th>\n",
       "      <th>Age Category</th>\n",
       "      <th>Race Category</th>\n",
       "    </tr>\n",
       "  </thead>\n",
       "  <tbody>\n",
       "    <tr>\n",
       "      <th>0</th>\n",
       "      <td>MP128712</td>\n",
       "      <td>09/04/2024</td>\n",
       "      <td>Campirano</td>\n",
       "      <td>Nixon</td>\n",
       "      <td>Goodyear</td>\n",
       "      <td>Maricopa</td>\n",
       "      <td>AZ</td>\n",
       "      <td>Male</td>\n",
       "      <td>09/06/2024</td>\n",
       "      <td>Teen/Adolescent (13-17)</td>\n",
       "      <td>White / Caucasian</td>\n",
       "    </tr>\n",
       "    <tr>\n",
       "      <th>1</th>\n",
       "      <td>MP128606</td>\n",
       "      <td>08/31/2024</td>\n",
       "      <td>Batra</td>\n",
       "      <td>Anjali</td>\n",
       "      <td>Morgan Hill</td>\n",
       "      <td>Santa Clara</td>\n",
       "      <td>CA</td>\n",
       "      <td>Female</td>\n",
       "      <td>09/04/2024</td>\n",
       "      <td>Young Adult (18-24)</td>\n",
       "      <td>Mix / Other / Unknown</td>\n",
       "    </tr>\n",
       "    <tr>\n",
       "      <th>2</th>\n",
       "      <td>MP128466</td>\n",
       "      <td>08/30/2024</td>\n",
       "      <td>CLARK</td>\n",
       "      <td>JOSHUA</td>\n",
       "      <td>Mulberry</td>\n",
       "      <td>Polk</td>\n",
       "      <td>FL</td>\n",
       "      <td>Male</td>\n",
       "      <td>09/06/2024</td>\n",
       "      <td>Adult (25-44)</td>\n",
       "      <td>White / Caucasian</td>\n",
       "    </tr>\n",
       "    <tr>\n",
       "      <th>3</th>\n",
       "      <td>MP128454</td>\n",
       "      <td>08/30/2024</td>\n",
       "      <td>Turney-Long</td>\n",
       "      <td>Alinda</td>\n",
       "      <td>Winter Haven</td>\n",
       "      <td>Polk</td>\n",
       "      <td>FL</td>\n",
       "      <td>Female</td>\n",
       "      <td>09/06/2024</td>\n",
       "      <td>Teen/Adolescent (13-17)</td>\n",
       "      <td>White / Caucasian</td>\n",
       "    </tr>\n",
       "    <tr>\n",
       "      <th>4</th>\n",
       "      <td>MP128473</td>\n",
       "      <td>08/30/2024</td>\n",
       "      <td>COTE</td>\n",
       "      <td>KATHY</td>\n",
       "      <td>West Palm Beach</td>\n",
       "      <td>Palm Beach</td>\n",
       "      <td>FL</td>\n",
       "      <td>Female</td>\n",
       "      <td>09/06/2024</td>\n",
       "      <td>Senior (65+)</td>\n",
       "      <td>White / Caucasian</td>\n",
       "    </tr>\n",
       "  </tbody>\n",
       "</table>\n",
       "</div>"
      ],
      "text/plain": [
       "  Case Number         DLC Legal Last Name Legal First Name             City  \\\n",
       "0    MP128712  09/04/2024       Campirano            Nixon         Goodyear   \n",
       "1    MP128606  08/31/2024           Batra           Anjali      Morgan Hill   \n",
       "2    MP128466  08/30/2024           CLARK           JOSHUA         Mulberry   \n",
       "3    MP128454  08/30/2024     Turney-Long           Alinda     Winter Haven   \n",
       "4    MP128473  08/30/2024            COTE            KATHY  West Palm Beach   \n",
       "\n",
       "        County State Biological Sex Date Modified             Age Category  \\\n",
       "0     Maricopa    AZ           Male    09/06/2024  Teen/Adolescent (13-17)   \n",
       "1  Santa Clara    CA         Female    09/04/2024      Young Adult (18-24)   \n",
       "2         Polk    FL           Male    09/06/2024            Adult (25-44)   \n",
       "3         Polk    FL         Female    09/06/2024  Teen/Adolescent (13-17)   \n",
       "4   Palm Beach    FL         Female    09/06/2024             Senior (65+)   \n",
       "\n",
       "           Race Category  \n",
       "0      White / Caucasian  \n",
       "1  Mix / Other / Unknown  \n",
       "2      White / Caucasian  \n",
       "3      White / Caucasian  \n",
       "4      White / Caucasian  "
      ]
     },
     "execution_count": 653,
     "metadata": {},
     "output_type": "execute_result"
    }
   ],
   "source": [
    "missing_df_3.head()"
   ]
  },
  {
   "cell_type": "code",
   "execution_count": 654,
   "metadata": {},
   "outputs": [
    {
     "name": "stdout",
     "output_type": "stream",
     "text": [
      "nan\n",
      "nan\n",
      "nan\n",
      "nan\n",
      "nan\n"
     ]
    }
   ],
   "source": [
    "# checking for non calendar values \n",
    "for idx, i in enumerate(missing_df_3[\"DLC\"]): \n",
    "    if \"/\" not in str(i): \n",
    "        # print(missing_df_3.iloc[[idx]])\n",
    "        # print(\"----------------------\")\n",
    "        print(i)\n",
    "\n",
    "# removing none calendar values \n",
    "missing_df_3 = missing_df_3.dropna(subset=[\"DLC\"])\n",
    "        "
   ]
  },
  {
   "cell_type": "code",
   "execution_count": 655,
   "metadata": {},
   "outputs": [],
   "source": [
    "# check for non calendar values again \n",
    "for i in missing_df_3[\"DLC\"]: \n",
    "    if \"/\" not in str(i): \n",
    "        print(i)"
   ]
  },
  {
   "cell_type": "code",
   "execution_count": 656,
   "metadata": {},
   "outputs": [],
   "source": [
    "# purpose: get month value \n",
    "def getMonth(df): \n",
    "    # new month column \n",
    "    df[\"Month\"] = \"\"\n",
    "\n",
    "    for idx, i in enumerate(df[\"DLC\"]): \n",
    "        i = i.split(\"/\")[0]\n",
    "\n",
    "        if i == \"01\": \n",
    "            df.loc[idx, \"Month\"] = \"Jan.\"\n",
    "\n",
    "        elif i == \"02\": \n",
    "            df.loc[idx, \"Month\"] = \"Feb.\"\n",
    "\n",
    "        elif i == \"03\": \n",
    "            df.loc[idx, \"Month\"] = \"Mar.\"\n",
    "\n",
    "        elif i == \"04\": \n",
    "            df.loc[idx, \"Month\"] = \"Apr.\"\n",
    "\n",
    "        elif i == \"05\": \n",
    "            df.loc[idx, \"Month\"] = \"May.\"\n",
    "\n",
    "        elif i == \"06\": \n",
    "            df.loc[idx, \"Month\"] = \"Jun.\"\n",
    "\n",
    "        elif i == \"07\": \n",
    "            df.loc[idx, \"Month\"] = \"Jul.\"\n",
    "\n",
    "        elif i == \"08\": \n",
    "            df.loc[idx, \"Month\"] = \"Aug.\"\n",
    "\n",
    "        elif i == \"09\": \n",
    "            df.loc[idx, \"Month\"] = \"Sep.\"\n",
    "\n",
    "        elif i == \"10\": \n",
    "            df.loc[idx, \"Month\"] = \"Oct.\"\n",
    "\n",
    "        elif i == \"11\": \n",
    "            df.loc[idx, \"Month\"] = \"Nov.\"\n",
    "\n",
    "        elif i == \"12\": \n",
    "            df.loc[idx, \"Month\"] = \"Dec.\"\n",
    "\n",
    "    # removing nan values \n",
    "    df = df.dropna(subset=[\"Month\"])\n",
    "\n",
    "    return df \n",
    "\n",
    "missing_df_4 = getMonth(missing_df_3)"
   ]
  },
  {
   "cell_type": "code",
   "execution_count": 657,
   "metadata": {},
   "outputs": [
    {
     "data": {
      "text/plain": [
       "array(['Sep.', 'Aug.', 'Jul.', 'Jun.', 'May.', 'Apr.', 'Mar.', 'Feb.',\n",
       "       'Jan.', 'Dec.', 'Nov.', 'Oct.', ''], dtype=object)"
      ]
     },
     "execution_count": 657,
     "metadata": {},
     "output_type": "execute_result"
    }
   ],
   "source": [
    "missing_df_4[\"Month\"].unique()"
   ]
  },
  {
   "cell_type": "code",
   "execution_count": 659,
   "metadata": {},
   "outputs": [
    {
     "ename": "ValueError",
     "evalue": "Cannot display a file using FileLinks. Use FileLink to display './updated-missing-person-data.csv'.",
     "output_type": "error",
     "traceback": [
      "\u001b[1;31m---------------------------------------------------------------------------\u001b[0m",
      "\u001b[1;31mValueError\u001b[0m                                Traceback (most recent call last)",
      "Cell \u001b[1;32mIn[659], line 7\u001b[0m\n\u001b[0;32m      3\u001b[0m \u001b[38;5;28;01mfrom\u001b[39;00m \u001b[38;5;21;01mIPython\u001b[39;00m\u001b[38;5;21;01m.\u001b[39;00m\u001b[38;5;21;01mdisplay\u001b[39;00m \u001b[38;5;28;01mimport\u001b[39;00m FileLink, FileLinks\n\u001b[0;32m      5\u001b[0m missing_df_3\u001b[38;5;241m.\u001b[39mto_csv(\u001b[38;5;124m'\u001b[39m\u001b[38;5;124m./updated-missing-person-data.csv\u001b[39m\u001b[38;5;124m'\u001b[39m, index\u001b[38;5;241m=\u001b[39m\u001b[38;5;28;01mFalse\u001b[39;00m)\n\u001b[1;32m----> 7\u001b[0m \u001b[43mFileLinks\u001b[49m\u001b[43m(\u001b[49m\u001b[38;5;124;43m'\u001b[39;49m\u001b[38;5;124;43m./updated-missing-person-data.csv\u001b[39;49m\u001b[38;5;124;43m'\u001b[39;49m\u001b[43m)\u001b[49m\n",
      "File \u001b[1;32m~\\AppData\\Local\\Packages\\PythonSoftwareFoundation.Python.3.11_qbz5n2kfra8p0\\LocalCache\\local-packages\\Python311\\site-packages\\IPython\\lib\\display.py:497\u001b[0m, in \u001b[0;36mFileLinks.__init__\u001b[1;34m(self, path, url_prefix, included_suffixes, result_html_prefix, result_html_suffix, notebook_display_formatter, terminal_display_formatter, recursive)\u001b[0m\n\u001b[0;32m    459\u001b[0m \u001b[38;5;250m\u001b[39m\u001b[38;5;124;03m\"\"\"\u001b[39;00m\n\u001b[0;32m    460\u001b[0m \u001b[38;5;124;03mSee :class:`FileLink` for the ``path``, ``url_prefix``,\u001b[39;00m\n\u001b[0;32m    461\u001b[0m \u001b[38;5;124;03m``result_html_prefix`` and ``result_html_suffix`` parameters.\u001b[39;00m\n\u001b[1;32m   (...)\u001b[0m\n\u001b[0;32m    494\u001b[0m \n\u001b[0;32m    495\u001b[0m \u001b[38;5;124;03m\"\"\"\u001b[39;00m\n\u001b[0;32m    496\u001b[0m \u001b[38;5;28;01mif\u001b[39;00m isfile(path):\n\u001b[1;32m--> 497\u001b[0m     \u001b[38;5;28;01mraise\u001b[39;00m \u001b[38;5;167;01mValueError\u001b[39;00m(\u001b[38;5;124m\"\u001b[39m\u001b[38;5;124mCannot display a file using FileLinks. \u001b[39m\u001b[38;5;124m\"\u001b[39m\n\u001b[0;32m    498\u001b[0m       \u001b[38;5;124m\"\u001b[39m\u001b[38;5;124mUse FileLink to display \u001b[39m\u001b[38;5;124m'\u001b[39m\u001b[38;5;132;01m%s\u001b[39;00m\u001b[38;5;124m'\u001b[39m\u001b[38;5;124m.\u001b[39m\u001b[38;5;124m\"\u001b[39m \u001b[38;5;241m%\u001b[39m path)\n\u001b[0;32m    499\u001b[0m \u001b[38;5;28mself\u001b[39m\u001b[38;5;241m.\u001b[39mincluded_suffixes \u001b[38;5;241m=\u001b[39m included_suffixes\n\u001b[0;32m    500\u001b[0m \u001b[38;5;66;03m# remove trailing slashes for more consistent output formatting\u001b[39;00m\n",
      "\u001b[1;31mValueError\u001b[0m: Cannot display a file using FileLinks. Use FileLink to display './updated-missing-person-data.csv'."
     ]
    }
   ],
   "source": [
    "missing_df.head()\n",
    "\n",
    "from IPython.display import FileLink, FileLinks\n",
    "\n",
    "missing_df_3.to_csv('./updated-missing-person-data.csv', index=False)\n",
    "\n",
    "FileLinks('./updated-missing-person-data.csv')"
   ]
  },
  {
   "cell_type": "code",
   "execution_count": 660,
   "metadata": {},
   "outputs": [
    {
     "data": {
      "text/plain": [
       "Biological Sex\n",
       "Male      15702\n",
       "Female     9347\n",
       "Other         6\n",
       "Name: count, dtype: int64"
      ]
     },
     "execution_count": 660,
     "metadata": {},
     "output_type": "execute_result"
    }
   ],
   "source": [
    "missing_df_4[\"Biological Sex\"].value_counts()"
   ]
  }
 ],
 "metadata": {
  "kernelspec": {
   "display_name": "Python 3",
   "language": "python",
   "name": "python3"
  },
  "language_info": {
   "codemirror_mode": {
    "name": "ipython",
    "version": 3
   },
   "file_extension": ".py",
   "mimetype": "text/x-python",
   "name": "python",
   "nbconvert_exporter": "python",
   "pygments_lexer": "ipython3",
   "version": "3.11.9"
  }
 },
 "nbformat": 4,
 "nbformat_minor": 2
}
